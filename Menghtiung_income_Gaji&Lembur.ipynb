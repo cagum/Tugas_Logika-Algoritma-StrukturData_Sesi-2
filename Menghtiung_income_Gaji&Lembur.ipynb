{
 "cells": [
  {
   "cell_type": "code",
   "execution_count": 22,
   "id": "cafee523",
   "metadata": {},
   "outputs": [
    {
     "name": "stdout",
     "output_type": "stream",
     "text": [
      "Masukkan jumlah gaji : 3500000\n",
      "Masukkan Jumlah jam lembur : 8\n",
      "Masukkan upah lembur : 50000\n",
      "Total Gaji Anda = Rp. 3975000.0\n"
     ]
    }
   ],
   "source": [
    "#Tugas_Matkul : Algoritma & Struktur Data\n",
    "#Menghitung Income dari gaji upah lembur\n",
    "#Mochammad Cahya Gumilar_20220040116_TI22B\n",
    "#====================================================\n",
    "#INPUT UPAH LEMBUR > 5 JAM\n",
    "\n",
    "Gaji = int(input(\"Masukkan jumlah gaji : \"))\n",
    "Jam_Lembur = int(input(\"Masukkan Jumlah jam lembur : \"))\n",
    "Upah_Lembur = int(input(\"Masukkan upah lembur : \"))\n",
    "                        \n",
    "if Jam_Lembur > 5:\n",
    "    hasil = Upah_Lembur*(Jam_Lembur-5)*1.5+(5*Upah_Lembur)\n",
    "else:\n",
    "    hasil = Upah_Lembur*Jam_Lembur\n",
    "    \n",
    "print(\"Total Gaji Anda = Rp.\",(hasil+Gaji))\n"
   ]
  },
  {
   "cell_type": "code",
   "execution_count": 23,
   "id": "51fc34c0",
   "metadata": {},
   "outputs": [
    {
     "name": "stdout",
     "output_type": "stream",
     "text": [
      "Masukkan jumlah gaji : 3500000\n",
      "Masukkan Jumlah jam lembur : 4\n",
      "Masukkan upah lembur : 50000\n",
      "Total Gaji Anda = Rp. 3700000\n"
     ]
    }
   ],
   "source": [
    "#Tugas_Matkul : Algoritma & Struktur Data\n",
    "#Menghitung Income dari gaji upah lembur\n",
    "#Mochammad Cahya Gumilar_20220040116_TI22B\n",
    "#=============================================\n",
    "#INPUT UPAH LEMBUR ≤ 5 jam\n",
    "\n",
    "Gaji = int(input(\"Masukkan jumlah gaji : \"))\n",
    "Jam_Lembur = int(input(\"Masukkan Jumlah jam lembur : \"))\n",
    "Upah_Lembur = int(input(\"Masukkan upah lembur : \"))\n",
    "                        \n",
    "if Jam_Lembur > 5:\n",
    "    hasil = Upah_Lembur*(Jam_Lembur-5)*1.5+(5*Upah_Lembur)\n",
    "else:\n",
    "    hasil = Upah_Lembur*Jam_Lembur\n",
    "    \n",
    "print(\"Total Gaji Anda = Rp.\",(hasil+Gaji))"
   ]
  },
  {
   "cell_type": "code",
   "execution_count": null,
   "id": "1c1bffd3",
   "metadata": {},
   "outputs": [],
   "source": []
  }
 ],
 "metadata": {
  "kernelspec": {
   "display_name": "Python 3 (ipykernel)",
   "language": "python",
   "name": "python3"
  },
  "language_info": {
   "codemirror_mode": {
    "name": "ipython",
    "version": 3
   },
   "file_extension": ".py",
   "mimetype": "text/x-python",
   "name": "python",
   "nbconvert_exporter": "python",
   "pygments_lexer": "ipython3",
   "version": "3.9.12"
  }
 },
 "nbformat": 4,
 "nbformat_minor": 5
}
